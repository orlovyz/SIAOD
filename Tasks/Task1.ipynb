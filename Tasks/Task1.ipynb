{
 "cells": [
  {
   "cell_type": "markdown",
   "metadata": {},
   "source": [
    "# Ермаков Юрий БВТ2004"
   ]
  },
  {
   "cell_type": "markdown",
   "metadata": {},
   "source": [
    "Массив A состоит из целых положительных чисел длин отрезков. Составьте из трех отрезков такой треугольник, чтобы его периметр был максимально возможным. Если невозможно составить треугольник с положительной площадью функция возвращает 0."
   ]
  },
  {
   "cell_type": "code",
   "execution_count": 5,
   "metadata": {},
   "outputs": [
    {
     "ename": "ValueError",
     "evalue": "empty range for randrange() (6, 2, -4)",
     "output_type": "error",
     "traceback": [
      "\u001b[1;31m---------------------------------------------------------------------------\u001b[0m",
      "\u001b[1;31mValueError\u001b[0m                                Traceback (most recent call last)",
      "\u001b[1;32mUntitled-1.ipynb Cell 3'\u001b[0m in \u001b[0;36m<module>\u001b[1;34m\u001b[0m\n\u001b[0;32m     <a href='vscode-notebook-cell:Untitled-1.ipynb?jupyter-notebook#ch0000000untitled?line=15'>16</a>\u001b[0m min_n \u001b[39m=\u001b[39m \u001b[39mint\u001b[39m(\u001b[39minput\u001b[39m())\n\u001b[0;32m     <a href='vscode-notebook-cell:Untitled-1.ipynb?jupyter-notebook#ch0000000untitled?line=16'>17</a>\u001b[0m max_n \u001b[39m=\u001b[39m \u001b[39mint\u001b[39m(\u001b[39minput\u001b[39m())\n\u001b[1;32m---> <a href='vscode-notebook-cell:Untitled-1.ipynb?jupyter-notebook#ch0000000untitled?line=17'>18</a>\u001b[0m arr \u001b[39m=\u001b[39m [random\u001b[39m.\u001b[39mrandint(min_n, max_n) \u001b[39mfor\u001b[39;00m i \u001b[39min\u001b[39;00m \u001b[39mrange\u001b[39m(l)]\n\u001b[0;32m     <a href='vscode-notebook-cell:Untitled-1.ipynb?jupyter-notebook#ch0000000untitled?line=18'>19</a>\u001b[0m \u001b[39mprint\u001b[39m(arr)\n\u001b[0;32m     <a href='vscode-notebook-cell:Untitled-1.ipynb?jupyter-notebook#ch0000000untitled?line=19'>20</a>\u001b[0m \u001b[39mprint\u001b[39m(maxPerm(arr))\n",
      "\u001b[1;32mUntitled-1.ipynb Cell 3'\u001b[0m in \u001b[0;36m<listcomp>\u001b[1;34m(.0)\u001b[0m\n\u001b[0;32m     <a href='vscode-notebook-cell:Untitled-1.ipynb?jupyter-notebook#ch0000000untitled?line=15'>16</a>\u001b[0m min_n \u001b[39m=\u001b[39m \u001b[39mint\u001b[39m(\u001b[39minput\u001b[39m())\n\u001b[0;32m     <a href='vscode-notebook-cell:Untitled-1.ipynb?jupyter-notebook#ch0000000untitled?line=16'>17</a>\u001b[0m max_n \u001b[39m=\u001b[39m \u001b[39mint\u001b[39m(\u001b[39minput\u001b[39m())\n\u001b[1;32m---> <a href='vscode-notebook-cell:Untitled-1.ipynb?jupyter-notebook#ch0000000untitled?line=17'>18</a>\u001b[0m arr \u001b[39m=\u001b[39m [random\u001b[39m.\u001b[39;49mrandint(min_n, max_n) \u001b[39mfor\u001b[39;00m i \u001b[39min\u001b[39;00m \u001b[39mrange\u001b[39m(l)]\n\u001b[0;32m     <a href='vscode-notebook-cell:Untitled-1.ipynb?jupyter-notebook#ch0000000untitled?line=18'>19</a>\u001b[0m \u001b[39mprint\u001b[39m(arr)\n\u001b[0;32m     <a href='vscode-notebook-cell:Untitled-1.ipynb?jupyter-notebook#ch0000000untitled?line=19'>20</a>\u001b[0m \u001b[39mprint\u001b[39m(maxPerm(arr))\n",
      "File \u001b[1;32mC:\\Program Files\\WindowsApps\\PythonSoftwareFoundation.Python.3.10_3.10.752.0_x64__qbz5n2kfra8p0\\lib\\random.py:370\u001b[0m, in \u001b[0;36mRandom.randint\u001b[1;34m(self, a, b)\u001b[0m\n\u001b[0;32m    <a href='file:///c%3A/Program%20Files/WindowsApps/PythonSoftwareFoundation.Python.3.10_3.10.752.0_x64__qbz5n2kfra8p0/lib/random.py?line=365'>366</a>\u001b[0m \u001b[39mdef\u001b[39;00m \u001b[39mrandint\u001b[39m(\u001b[39mself\u001b[39m, a, b):\n\u001b[0;32m    <a href='file:///c%3A/Program%20Files/WindowsApps/PythonSoftwareFoundation.Python.3.10_3.10.752.0_x64__qbz5n2kfra8p0/lib/random.py?line=366'>367</a>\u001b[0m     \u001b[39m\"\"\"Return random integer in range [a, b], including both end points.\u001b[39;00m\n\u001b[0;32m    <a href='file:///c%3A/Program%20Files/WindowsApps/PythonSoftwareFoundation.Python.3.10_3.10.752.0_x64__qbz5n2kfra8p0/lib/random.py?line=367'>368</a>\u001b[0m \u001b[39m    \"\"\"\u001b[39;00m\n\u001b[1;32m--> <a href='file:///c%3A/Program%20Files/WindowsApps/PythonSoftwareFoundation.Python.3.10_3.10.752.0_x64__qbz5n2kfra8p0/lib/random.py?line=369'>370</a>\u001b[0m     \u001b[39mreturn\u001b[39;00m \u001b[39mself\u001b[39;49m\u001b[39m.\u001b[39;49mrandrange(a, b\u001b[39m+\u001b[39;49m\u001b[39m1\u001b[39;49m)\n",
      "File \u001b[1;32mC:\\Program Files\\WindowsApps\\PythonSoftwareFoundation.Python.3.10_3.10.752.0_x64__qbz5n2kfra8p0\\lib\\random.py:353\u001b[0m, in \u001b[0;36mRandom.randrange\u001b[1;34m(self, start, stop, step)\u001b[0m\n\u001b[0;32m    <a href='file:///c%3A/Program%20Files/WindowsApps/PythonSoftwareFoundation.Python.3.10_3.10.752.0_x64__qbz5n2kfra8p0/lib/random.py?line=350'>351</a>\u001b[0m     \u001b[39mif\u001b[39;00m width \u001b[39m>\u001b[39m \u001b[39m0\u001b[39m:\n\u001b[0;32m    <a href='file:///c%3A/Program%20Files/WindowsApps/PythonSoftwareFoundation.Python.3.10_3.10.752.0_x64__qbz5n2kfra8p0/lib/random.py?line=351'>352</a>\u001b[0m         \u001b[39mreturn\u001b[39;00m istart \u001b[39m+\u001b[39m \u001b[39mself\u001b[39m\u001b[39m.\u001b[39m_randbelow(width)\n\u001b[1;32m--> <a href='file:///c%3A/Program%20Files/WindowsApps/PythonSoftwareFoundation.Python.3.10_3.10.752.0_x64__qbz5n2kfra8p0/lib/random.py?line=352'>353</a>\u001b[0m     \u001b[39mraise\u001b[39;00m \u001b[39mValueError\u001b[39;00m(\u001b[39m\"\u001b[39m\u001b[39mempty range for randrange() (\u001b[39m\u001b[39m%d\u001b[39;00m\u001b[39m, \u001b[39m\u001b[39m%d\u001b[39;00m\u001b[39m, \u001b[39m\u001b[39m%d\u001b[39;00m\u001b[39m)\u001b[39m\u001b[39m\"\u001b[39m \u001b[39m%\u001b[39m (istart, istop, width))\n\u001b[0;32m    <a href='file:///c%3A/Program%20Files/WindowsApps/PythonSoftwareFoundation.Python.3.10_3.10.752.0_x64__qbz5n2kfra8p0/lib/random.py?line=354'>355</a>\u001b[0m \u001b[39m# Non-unit step argument supplied.\u001b[39;00m\n\u001b[0;32m    <a href='file:///c%3A/Program%20Files/WindowsApps/PythonSoftwareFoundation.Python.3.10_3.10.752.0_x64__qbz5n2kfra8p0/lib/random.py?line=355'>356</a>\u001b[0m \u001b[39mif\u001b[39;00m istep \u001b[39m>\u001b[39m \u001b[39m0\u001b[39m:\n",
      "\u001b[1;31mValueError\u001b[0m: empty range for randrange() (6, 2, -4)"
     ]
    }
   ],
   "source": [
    "import random\n",
    "def maxPerm(values: list[int]) -> int :\n",
    "    length = len(values)\n",
    "    if (length < 3 ) :\n",
    "        return 0\n",
    "    values.sort(reverse=True)\n",
    "    for i in range(length - 2):\n",
    "        seg1 = values[i]\n",
    "        seg2 = values[i+1]\n",
    "        seg3 = values[i+2]\n",
    "        if (seg2 + seg3 > seg1) :\n",
    "            return seg1 + seg2 + seg3\n",
    "        \n",
    "    return 0\n",
    "l = int(input())\n",
    "min_n = int(input())\n",
    "max_n = int(input())\n",
    "arr = [random.randint(min_n, max_n) for i in range(l)]\n",
    "print(arr)\n",
    "print(maxPerm(arr))"
   ]
  },
  {
   "cell_type": "markdown",
   "metadata": {},
   "source": [
    "Дан массив неотрицательных целых чисел nums. Расположите их в таком порядке, чтобы вместе они образовали максимально возможное число. Замечание: Результат может быть очень большим числом, поэтому представьте его как string, а не integer."
   ]
  },
  {
   "cell_type": "code",
   "execution_count": null,
   "metadata": {},
   "outputs": [
    {
     "name": "stdout",
     "output_type": "stream",
     "text": [
      "[22, 25, 12, 24, 35]\n",
      "5543222221\n"
     ]
    }
   ],
   "source": [
    "import random\n",
    "def maxNumb (values: list):\n",
    "    str_nums = [str(i) for i in values]\n",
    "    res=''\n",
    "    for i in range(len(str_nums)):\n",
    "        res = res + str_nums[i]\n",
    "    res = list(res)\n",
    "    res.sort(reverse=True)\n",
    "    return ''.join(res)\n",
    "l = int(input())\n",
    "min_n = int(input())\n",
    "max_n = int(input())\n",
    "nums = [random.randint(min_n, max_n) for i in range(l)]\n",
    "print(nums)\n",
    "print(maxNumb(nums))"
   ]
  },
  {
   "cell_type": "markdown",
   "metadata": {},
   "source": [
    "Дана матрица mat размером m * n, значения целочисленные. Напишите функцию, сортирующую каждую диагональ матрицы по возрастанию и возвращающую получившуюся матрицу. Не очень ясно, что в прямоугольной матрице является главной и побочной диагональю, а также не понятно, как мы можем отсортировать диагонали матриц, которые пересекаются на некотором элементе (в таком случае возможно, что для одной из диагоналей сортировка не отработает корректно)."
   ]
  },
  {
   "cell_type": "code",
   "execution_count": 6,
   "metadata": {},
   "outputs": [
    {
     "name": "stdout",
     "output_type": "stream",
     "text": [
      "  10   6  10   9   4   4  10   5   2   2\n",
      "   5   5   3   1   3   9   9   8   7   5\n",
      "   7   8   6   3  10   7   4   2   6   1\n",
      "  10   3   3  10   7   1  10   1   9   2\n",
      "   4   4   3   8   5   7   9   2  10  10\n",
      "   7   8   3   5   7  10  10   2   2   3\n",
      "   7   5   6   8   6   5   5   5   5   2\n",
      "  10   4   2   2   1   4  10  10   1   8\n",
      "   1   8   1   3  10   5   6   6   5   3\n",
      "   3   3   7   9   6   5   9   1   6   7\n",
      "\n",
      "   5   6  10   9   4   4  10   5   2   2\n",
      "   5   5   3   1   3   9   9   8   2   5\n",
      "   7   8   5   3  10   7   4   2   6   1\n",
      "  10   3   3   5   7   1   3   1   9   2\n",
      "   4   4   3   8   6   7   9   2  10  10\n",
      "   7   8   3   5   7   7  10   2   2   3\n",
      "   7   5   6   7   6   5  10   5   5   2\n",
      "  10   4   8   2   1   4  10  10   1   8\n",
      "   1   8   1   3  10   5   6   6  10   3\n",
      "  10   3   7   9   6   5   9   1   6  10\n"
     ]
    }
   ],
   "source": [
    "import random\n",
    "def pretty_matrix(matrix: list[list[int]]):\n",
    "    print('\\n'.join([''.join(['{:4}'.format(item) for item in row]) for row in matrix]))\n",
    "def sort_diagonal(matrix: list[list[int]]):\n",
    "    cols = len(matrix[0])\n",
    "    \n",
    "    for i in range(cols - 1):\n",
    "        for j in range(cols - i - 1):\n",
    "            # сортируем главную диагональ\n",
    "            if matrix[j][j] > matrix[j + 1][j + 1]:\n",
    "                matrix[j][j], matrix[j + 1][j + 1] = matrix[j + 1][j + 1], matrix[j][j]\n",
    "                \n",
    "            # сортируем побочную диагональ\n",
    "            curr_j = cols - j - 1\n",
    "            if matrix[j][curr_j] > matrix[j + 1][curr_j - 1]:\n",
    "                matrix[j][curr_j], matrix[j + 1][curr_j - 1] = matrix[j + 1][curr_j - 1], matrix[j][curr_j]\n",
    "    \n",
    "    return matrix\n",
    "\n",
    "\n",
    "x = int(input())\n",
    "y = int(input())\n",
    "min_n = int(input())\n",
    "max_n = int(input())\n",
    "mat = [[random.randint(min_n, max_n) for i in range(x)] for j in range(y)]\n",
    "pretty_matrix(mat)\n",
    "print()\n",
    "pretty_matrix(sort_diagonal (mat))"
   ]
  }
 ],
 "metadata": {
  "interpreter": {
   "hash": "f72d2c06786d15eed80cf975832863d928111a0955879c3276f255a7f1f55f24"
  },
  "kernelspec": {
   "display_name": "Python 3.10.2 64-bit (windows store)",
   "language": "python",
   "name": "python3"
  },
  "language_info": {
   "codemirror_mode": {
    "name": "ipython",
    "version": 3
   },
   "file_extension": ".py",
   "mimetype": "text/x-python",
   "name": "python",
   "nbconvert_exporter": "python",
   "pygments_lexer": "ipython3",
   "version": "3.10.2"
  },
  "orig_nbformat": 4
 },
 "nbformat": 4,
 "nbformat_minor": 2
}
