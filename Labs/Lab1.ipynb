{
 "cells": [
  {
   "cell_type": "markdown",
   "id": "fifteen-sailing",
   "metadata": {},
   "source": [
    "# Лабораторная работа №1\n",
    "## Выполнил студент группы БВТ2004 Ермаков Юрий Алексеевич"
   ]
  },
  {
   "cell_type": "markdown",
   "id": "particular-syndicate",
   "metadata": {},
   "source": [
    "### Оглавление\n",
    "1. [Задание 1](#Задание-№1)\n",
    "2. [Задание 2](#Задание-№2)\n",
    "3. [Задание 3](#Задание-№3)\n",
    "4. [Вывод](#Вывод)"
   ]
  },
  {
   "cell_type": "markdown",
   "id": "arctic-stocks",
   "metadata": {},
   "source": [
    "### Задание №1\n",
    "<i> Вызвать функцию print() и передать туда строку Hello, World! </i>"
   ]
  },
  {
   "cell_type": "code",
   "execution_count": null,
   "id": "caring-truck",
   "metadata": {
    "scrolled": true
   },
   "outputs": [
    {
     "name": "stdout",
     "output_type": "stream",
     "text": [
      "Hello, World\n"
     ]
    }
   ],
   "source": [
    "print(\"Hello, World\")"
   ]
  },
  {
   "cell_type": "markdown",
   "id": "maritime-conversation",
   "metadata": {},
   "source": [
    "### Задание №2\n",
    "Написать генератор случайных матриц(многомерных), который принимает\n",
    "опциональные параметры <b>m</b>, <b>n</b>, <b>min_limit</b>, <b>max_limit</b>, где <b>m</b> и <b>n</b> указывают размер\n",
    "матрицы, а <b>min_lim</b> и <b>max_lim</b> - минимальное и максимальное значение для\n",
    "генерируемого числа."
   ]
  },
  {
   "cell_type": "code",
   "execution_count": null,
   "id": "built-contact",
   "metadata": {},
   "outputs": [],
   "source": [
    "import random\n",
    "import time\n",
    "from copy import *"
   ]
  },
  {
   "cell_type": "code",
   "execution_count": 20,
   "id": "alert-charm",
   "metadata": {},
   "outputs": [
    {
     "name": "stdout",
     "output_type": "stream",
     "text": [
      "  15   7  20  17  13   2   7   4  18  18\n",
      "  18  19   7   7   5   2  16  10   5   4\n",
      "  15   3   1   6  16  19  18  15   7   9\n",
      "  20   7   2   7   8  12  13  15  13  18\n",
      "  14   5  15  18   4   1   9   2  11  15\n",
      "  16  12  15   9  17  19   8   2  14  11\n",
      "   2   9   6   3  18   1  20  17  16  19\n",
      "  20   2  10  12   3   9  10   3   8   1\n",
      "   4   6  10   9   9   1   2  10   2  10\n",
      "  17  15   9   3  13   7  15  13   1  13\n"
     ]
    }
   ],
   "source": [
    "def pretty_matrix(matrix: list[list[int]]):\n",
    "    print('\\n'.join([''.join(['{:4}'.format(elem) for elem in row]) for row in matrix]))\n",
    "\n",
    "def matrix_gen(m: int, n: int, min_limit: int, max_limit: int,):\n",
    "    return [[random.randint(min_limit, max_limit) for y in range(m)] for x in range(n)]\n",
    "user_m = int(input())\n",
    "user_n = int(input())\n",
    "user_min_limit = int(input())\n",
    "user_max_limit = int(input())  \n",
    "user_m, user_n, user_min_limit, user_max_limit\n",
    "src_matrix = matrix_gen(user_m, user_n, user_min_limit, user_max_limit)\n",
    "pretty_matrix(src_matrix)"
   ]
  },
  {
   "cell_type": "markdown",
   "id": "catholic-roots",
   "metadata": {},
   "source": [
    "### Задание №3\n",
    "Реализовать методы сортировки строк числовой матрицы в соответствии с\n",
    "заданием. Оценить время работы каждого алгоритма сортировки и сравнить его со\n",
    "временем стандартной функции сортировки. Испытания проводить на сгенерированных\n",
    "матрицах."
   ]
  },
  {
   "cell_type": "code",
   "execution_count": 22,
   "id": "opposed-creature",
   "metadata": {},
   "outputs": [
    {
     "name": "stdout",
     "output_type": "stream",
     "text": [
      "--- 0.136800 ms ---\n",
      "   1   2   2   4   6   9   9  10  10  10\n",
      "   1   2   3   3   8   9  10  10  12  20\n",
      "   1   2   3   6   9  16  17  18  19  20\n",
      "   1   2   4   5   9  11  14  15  15  18\n",
      "   1   3   6   7   9  15  15  16  18  19\n",
      "   1   3   7   9  13  13  13  15  15  17\n",
      "   2   4   5   5   7   7  10  16  18  19\n",
      "   2   4   7   7  13  15  17  18  18  20\n",
      "   2   7   7   8  12  13  13  15  18  20\n",
      "   2   8   9  11  12  14  15  16  17  19\n"
     ]
    }
   ],
   "source": [
    "# Сортировка с использованием стандартной функции сортировки\n",
    "matrix = deepcopy(src_matrix)\n",
    "start_time = time.perf_counter()\n",
    "\n",
    "for row in matrix:\n",
    "    row.sort()\n",
    "    \n",
    "matrix.sort()\n",
    "print(\"--- {:.6f} ms ---\".format((time.perf_counter() - start_time) * 1000))\n",
    "pretty_matrix(matrix)"
   ]
  },
  {
   "cell_type": "code",
   "execution_count": 23,
   "id": "cleared-anniversary",
   "metadata": {},
   "outputs": [
    {
     "name": "stdout",
     "output_type": "stream",
     "text": [
      "--- 0.302200 ms ---\n",
      "   1   2   2   4   6   9   9  10  10  10\n",
      "   1   2   3   3   8   9  10  10  12  20\n",
      "   1   2   3   6   9  16  17  18  19  20\n",
      "   1   2   4   5   9  11  14  15  15  18\n",
      "   1   3   6   7   9  15  15  16  18  19\n",
      "   1   3   7   9  13  13  13  15  15  17\n",
      "   2   4   5   5   7   7  10  16  18  19\n",
      "   2   4   7   7  13  15  17  18  18  20\n",
      "   2   7   7   8  12  13  13  15  18  20\n",
      "   2   8   9  11  12  14  15  16  17  19\n"
     ]
    }
   ],
   "source": [
    "# Сортировка выбором.\n",
    "# Берётся срез массива, в котором минимальный элемент переносят в самый левый угол,\n",
    "# после чего срез уменьшается и цикл повторяется.\n",
    "def selection_sort(values: list):\n",
    "    for x in range(len(values) - 1):\n",
    "        max_val = values[x]\n",
    "        max_index = x\n",
    "        for y in range(x, len(values)):\n",
    "            if max_val > values[y]:\n",
    "                max_val = values[y]\n",
    "                max_index = y\n",
    "        values[x], values[max_index] = values[max_index], values[x]\n",
    "start_time = time.perf_counter()\n",
    "\n",
    "for row in matrix:\n",
    "    selection_sort(row)\n",
    "        \n",
    "selection_sort(matrix)\n",
    "        \n",
    "print(\"--- {:.6f} ms ---\".format((time.perf_counter() - start_time) * 1000))\n",
    "pretty_matrix(matrix)"
   ]
  },
  {
   "cell_type": "code",
   "execution_count": 24,
   "id": "roman-silly",
   "metadata": {
    "scrolled": true
   },
   "outputs": [
    {
     "name": "stdout",
     "output_type": "stream",
     "text": [
      "--- 0.270100 ms ---\n",
      "   1   2   2   4   6   9   9  10  10  10\n",
      "   1   2   3   3   8   9  10  10  12  20\n",
      "   1   2   3   6   9  16  17  18  19  20\n",
      "   1   2   4   5   9  11  14  15  15  18\n",
      "   1   3   6   7   9  15  15  16  18  19\n",
      "   1   3   7   9  13  13  13  15  15  17\n",
      "   2   4   5   5   7   7  10  16  18  19\n",
      "   2   4   7   7  13  15  17  18  18  20\n",
      "   2   7   7   8  12  13  13  15  18  20\n",
      "   2   8   9  11  12  14  15  16  17  19\n"
     ]
    }
   ],
   "source": [
    "# Сортировка вставкой.\n",
    "\n",
    "#TODO\n",
    "matrix = deepcopy(src_matrix)\n",
    "\n",
    "def insertion_sort(values: list):\n",
    "    for i in range(len(values)):\n",
    "        buffer = values[i]\n",
    "        j = i - 1\n",
    "        while buffer < values[j] and j >= 0:\n",
    "            values[j + 1] = values[j]\n",
    "            j -= 1\n",
    "        values[j + 1] = buffer\n",
    "\n",
    "start_time = time.perf_counter()\n",
    "\n",
    "for row in matrix:\n",
    "    insertion_sort(row)\n",
    "    \n",
    "insertion_sort(matrix)\n",
    "\n",
    "print(\"--- {:.6f} ms ---\".format((time.perf_counter() - start_time) * 1000))\n",
    "pretty_matrix(matrix)"
   ]
  },
  {
   "cell_type": "code",
   "execution_count": 25,
   "id": "vital-implementation",
   "metadata": {},
   "outputs": [
    {
     "name": "stdout",
     "output_type": "stream",
     "text": [
      "--- 0.571100 ms ---\n",
      "   1   2   2   4   6   9   9  10  10  10\n",
      "   1   2   3   3   8   9  10  10  12  20\n",
      "   1   2   3   6   9  16  17  18  19  20\n",
      "   1   2   4   5   9  11  14  15  15  18\n",
      "   1   3   6   7   9  15  15  16  18  19\n",
      "   1   3   7   9  13  13  13  15  15  17\n",
      "   2   4   5   5   7   7  10  16  18  19\n",
      "   2   4   7   7  13  15  17  18  18  20\n",
      "   2   7   7   8  12  13  13  15  18  20\n",
      "   2   8   9  11  12  14  15  16  17  19\n"
     ]
    }
   ],
   "source": [
    "# Сортировка обменом. || Сортировка пузырьком.\n",
    "matrix = deepcopy(src_matrix)\n",
    "\n",
    "def bubble_sort(values: list):\n",
    "    for i in range(len(values) - 1):\n",
    "        for j in range(len(values) - 1 - i):\n",
    "            if values[j] > values[j + 1]:\n",
    "                values[j], values[j + 1] = values[j + 1], values[j]\n",
    "\n",
    "start_time = time.perf_counter()\n",
    "                \n",
    "for row in matrix:\n",
    "    bubble_sort(row)\n",
    "    \n",
    "bubble_sort(matrix)\n",
    "\n",
    "print(\"--- {:.6f} ms ---\".format((time.perf_counter() - start_time) * 1000))\n",
    "pretty_matrix(matrix)"
   ]
  },
  {
   "cell_type": "code",
   "execution_count": 26,
   "id": "veterinary-glory",
   "metadata": {},
   "outputs": [
    {
     "name": "stdout",
     "output_type": "stream",
     "text": [
      "--- 0.552300 ms ---\n",
      "   1   2   2   4   6   9   9  10  10  10\n",
      "   1   2   3   3   8   9  10  10  12  20\n",
      "   1   2   3   6   9  16  17  18  19  20\n",
      "   1   2   4   5   9  11  14  15  15  18\n",
      "   1   3   6   7   9  15  15  16  18  19\n",
      "   1   3   7   9  13  13  13  15  15  17\n",
      "   2   4   5   5   7   7  10  16  18  19\n",
      "   2   4   7   7  13  15  17  18  18  20\n",
      "   2   7   7   8  12  13  13  15  18  20\n",
      "   2   8   9  11  12  14  15  16  17  19\n"
     ]
    }
   ],
   "source": [
    "# Сортировка Шелла.\n",
    "matrix = deepcopy(src_matrix)\n",
    "\n",
    "def shell_sort(values: list):\n",
    "    step = len(values) >> 1\n",
    "    while step > 0:\n",
    "        for i in range(step, len(values)):\n",
    "            buffer = values[i]\n",
    "            j = i - step\n",
    "            while buffer < values[j] and j >= 0:\n",
    "                values[j + step] = values[j]\n",
    "                j -= step\n",
    "            values[j + step] = buffer\n",
    "        step = step >> 1\n",
    "\n",
    "start_time = time.perf_counter()\n",
    "\n",
    "for row in matrix:\n",
    "    shell_sort(row)\n",
    "    \n",
    "shell_sort(matrix)\n",
    "\n",
    "print(\"--- {:.6f} ms ---\".format((time.perf_counter() - start_time) * 1000))\n",
    "pretty_matrix(matrix)"
   ]
  },
  {
   "cell_type": "code",
   "execution_count": 27,
   "id": "correct-chaos",
   "metadata": {},
   "outputs": [
    {
     "name": "stdout",
     "output_type": "stream",
     "text": [
      "--- 0.390200 ms ---\n",
      "   1   2   2   4   6   9   9  10  10  10\n",
      "   1   2   3   3   8   9  10  10  12  20\n",
      "   1   2   3   6   9  16  17  18  20  19\n",
      "   1   2   4   9   5  11  14  15  15  18\n",
      "   1   3   6   7   9  15  15  18  16  19\n",
      "   2   8   9  12  11  14  15  16  19  17\n",
      "   1   7   3   9  13  13  13  15  15  17\n",
      "   4   2   5   5   7   7  10  16  18  19\n",
      "   4   2   7   7  13  15  18  17  18  20\n",
      "   7   2   7   8  13  12  13  15  18  20\n"
     ]
    }
   ],
   "source": [
    "# Быстрая сортировка.\n",
    "matrix = deepcopy(src_matrix)\n",
    "\n",
    "def partition(values: list, start: int, end: int) -> int:\n",
    "    a = values[(start + end) >> 1]\n",
    "    i = start\n",
    "    j = end\n",
    "    \n",
    "    while i <= j:\n",
    "        while values[i] < a:\n",
    "            i += 1\n",
    "        while values[j] > a:\n",
    "            j -= 1\n",
    "            \n",
    "        if i <= j:\n",
    "            values[i], values[j] = values[j], values[i]\n",
    "            i += 1\n",
    "            j -= 1\n",
    "        \n",
    "    return j\n",
    "\n",
    "def fast_sort(values: list, start: int, end: int):\n",
    "    a = partition(values, start, end)    \n",
    "    if (a - start > 1):\n",
    "        fast_sort(values, start, a)\n",
    "\n",
    "    if (end - (a + 1) > 1):\n",
    "        fast_sort(values, a + 1, end)\n",
    "        \n",
    "\n",
    "start_time = time.perf_counter()        \n",
    "\n",
    "for row in matrix:\n",
    "    fast_sort(row, 0, len(row) - 1)\n",
    "    \n",
    "fast_sort(matrix, 0, len(matrix) - 1)\n",
    "    \n",
    "print(\"--- {:.6f} ms ---\".format((time.perf_counter() - start_time) * 1000))\n",
    "pretty_matrix(matrix)"
   ]
  },
  {
   "cell_type": "code",
   "execution_count": 28,
   "id": "french-czech",
   "metadata": {},
   "outputs": [
    {
     "name": "stdout",
     "output_type": "stream",
     "text": [
      "--- 0.197800 ms ---\n",
      "   1   2   2   4   6   9   9  10  10  10\n",
      "   1   2   3   3   8   9  10  10  12  20\n",
      "   1   2   3   6   9  16  17  18  19  20\n",
      "   1   2   4   5   9  11  14  15  15  18\n",
      "   1   3   6   7   9  15  15  16  18  19\n",
      "   1   3   7   9  13  13  13  15  15  17\n",
      "   2   4   5   5   7   7  10  16  18  19\n",
      "   2   4   7   7  13  15  17  18  18  20\n",
      "   2   7   7   8  12  13  13  15  18  20\n",
      "   2   8   9  11  12  14  15  16  17  19\n"
     ]
    }
   ],
   "source": [
    "# Турнирная сортировка с многопутевым слиянием.\n",
    "from heapq import *\n",
    "\n",
    "matrix = deepcopy(src_matrix)\n",
    "\n",
    "MAX_SIZE = 16\n",
    "\n",
    "def multipath_merge(a: list, b: list) -> list:\n",
    "    result = []\n",
    "    \n",
    "    while len(a) > 0 and len(b) > 0:\n",
    "        if (b[0] < a[0]):\n",
    "            result.append(b.pop(0))\n",
    "        else:\n",
    "            result.append(a.pop(0))\n",
    "            \n",
    "    len_a = len(a)\n",
    "    len_b = len(b)\n",
    "    \n",
    "    if (len_a == 0 and len_b == 0):\n",
    "        return result\n",
    "    \n",
    "    if (len_a > 0):\n",
    "        result += a\n",
    "    else:\n",
    "        result += b\n",
    "                \n",
    "    return result\n",
    "\n",
    "def optimal_tournament_sort(values: list) -> list:\n",
    "    heap = []\n",
    "    \n",
    "    for i in values:\n",
    "        heappush(heap, i)\n",
    "        \n",
    "    for i in range(len(heap)):\n",
    "        values[i] = heappop(heap)\n",
    "    \n",
    "    return values\n",
    "                \n",
    "def bracketize(values: list) -> list:\n",
    "    heap = []\n",
    "    \n",
    "    while len(heap) <= MAX_SIZE:\n",
    "        heappush(heap, values.pop(0))\n",
    "        \n",
    "    winners = []\n",
    "    losers = []\n",
    "    \n",
    "    while len(values) > 0:\n",
    "        if len(winners) == 0:\n",
    "            winners.append(heappop(heap))\n",
    "            \n",
    "        if values[0] > winners[-1]:\n",
    "            heappush(heap, values.pop(0))\n",
    "        else:\n",
    "            losers.append(values.pop(0))\n",
    "            \n",
    "        if len(heap) > 0:\n",
    "            winners.append(heappop(heap))\n",
    "            \n",
    "    while len(heap) > 0:\n",
    "        winners.append(heappop(heap))\n",
    "        \n",
    "    if len(losers) == 0:\n",
    "        return winners\n",
    "    \n",
    "    return multipath_merge(tournament_sort(losers), winners)\n",
    "\n",
    "\n",
    "def tournament_sort(values: list) -> list:\n",
    "    if (len(values) <= MAX_SIZE):\n",
    "        return optimal_tournament_sort(values)\n",
    "    else:\n",
    "        return bracketize(values)\n",
    "\n",
    "start_time = time.perf_counter()\n",
    "\n",
    "for i in range(len(matrix)):\n",
    "    matrix[i] = tournament_sort(matrix[i])\n",
    "    \n",
    "matrix = tournament_sort(matrix)\n",
    "    \n",
    "print(\"--- {:.6f} ms ---\".format((time.perf_counter() - start_time) * 1000))\n",
    "pretty_matrix(matrix)"
   ]
  },
  {
   "cell_type": "markdown",
   "id": "rental-jerusalem",
   "metadata": {},
   "source": [
    "### Вывод\n"
   ]
  },
  {
   "cell_type": "code",
   "execution_count": null,
   "id": "19e7f6a9",
   "metadata": {},
   "outputs": [],
   "source": [
    "На основе полученных результатов, можно сделать вывод о том, что стандартная функция сортировки быстрее всего сортирует небольшие матрицы, наиболее производительным алгоритмом для сортировки небольших матриц является Турнирная сортировка с многопутевым слиянием. Её производительность близка к стандартной функции соритровки в языке Python, поэтому можно предположить, что стандартная функция использует в своей основе именно данный алгоритм. Также довольно неплохо себя показал алгоритм сортировки вставкой: он достаточно быстрый и стабильный (значение скорости выполнения гораздо меньше зависит от иходных данных в отличие от других алгоритмов)."
   ]
  }
 ],
 "metadata": {
  "kernelspec": {
   "display_name": "Python 3 (ipykernel)",
   "language": "python",
   "name": "python3"
  },
  "language_info": {
   "codemirror_mode": {
    "name": "ipython",
    "version": 3
   },
   "file_extension": ".py",
   "mimetype": "text/x-python",
   "name": "python",
   "nbconvert_exporter": "python",
   "pygments_lexer": "ipython3",
   "version": "3.10.2"
  }
 },
 "nbformat": 4,
 "nbformat_minor": 5
}
